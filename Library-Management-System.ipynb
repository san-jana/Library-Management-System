{
 "cells": [
  {
   "cell_type": "code",
   "execution_count": 2,
   "id": "cc254f87",
   "metadata": {},
   "outputs": [],
   "source": [
    "import pyodbc\n",
    "import pandas as pd\n",
    "import requests\n",
    "import json"
   ]
  },
  {
   "cell_type": "code",
   "execution_count": 10,
   "id": "e0b8aa32",
   "metadata": {},
   "outputs": [],
   "source": [
    "cnxn = pyodbc.connect('DRIVER={SQL Server};' \n",
    "                      'Server=.\\SQLEXPRESS;'\n",
    "                      'Database=TheLibrary;'\n",
    "                      'Trusted_Connection=yes')\n",
    "cur = cnxn.cursor()"
   ]
  },
  {
   "cell_type": "code",
   "execution_count": 11,
   "id": "7e3cde4c",
   "metadata": {},
   "outputs": [],
   "source": [
    "result = cur.execute(\"INSERT INTO RegisteredStudents(StudentID, FirstName, LastName, GraduationYear, Branch) \\\n",
    "            VALUES  ('00052022CSE', 'Primera', 'Rose', '01-05-2022', 'Computer Science Engineering')\")"
   ]
  },
  {
   "cell_type": "code",
   "execution_count": 12,
   "id": "8cccf414",
   "metadata": {},
   "outputs": [],
   "source": [
    "cnxn.commit()"
   ]
  },
  {
   "cell_type": "code",
   "execution_count": 13,
   "id": "36ac330a",
   "metadata": {},
   "outputs": [
    {
     "data": {
      "text/plain": [
       "1"
      ]
     },
     "execution_count": 13,
     "metadata": {},
     "output_type": "execute_result"
    }
   ],
   "source": [
    "result.rowcount"
   ]
  },
  {
   "cell_type": "code",
   "execution_count": 14,
   "id": "64bfc96a",
   "metadata": {},
   "outputs": [],
   "source": [
    "cur.execute(\"SELECT * FROM RegisteredStudents\")\n",
    "rows = cur.fetchall()"
   ]
  },
  {
   "cell_type": "code",
   "execution_count": 15,
   "id": "9e9c8d8e",
   "metadata": {},
   "outputs": [
    {
     "name": "stdout",
     "output_type": "stream",
     "text": [
      "Dues\n",
      "Adam Dill - 0.0000\n",
      "Sydney Grace - 0.0000\n",
      "Jimmy Smith - 0.0000\n",
      "Ana John - 0.0000\n",
      "Primera Rose - 0.0000\n"
     ]
    }
   ],
   "source": [
    "print(\"Dues\")\n",
    "for r in rows:\n",
    "    print(f\"{r.FirstName} {r.LastName} - {r.FineDue}\")"
   ]
  },
  {
   "cell_type": "code",
   "execution_count": 16,
   "id": "f2052653",
   "metadata": {},
   "outputs": [],
   "source": [
    "cur.commit()"
   ]
  },
  {
   "cell_type": "code",
   "execution_count": 17,
   "id": "1436702e",
   "metadata": {},
   "outputs": [],
   "source": [
    "student_data = ['00062022CHE', 'Denny', 'Matthews', '01-05-2022', 'Chemical Engineering']"
   ]
  },
  {
   "cell_type": "code",
   "execution_count": 18,
   "id": "77323674",
   "metadata": {},
   "outputs": [
    {
     "data": {
      "text/plain": [
       "<pyodbc.Cursor at 0x1c6240da6b0>"
      ]
     },
     "execution_count": 18,
     "metadata": {},
     "output_type": "execute_result"
    }
   ],
   "source": [
    "cur.execute(\"INSERT INTO RegisteredStudents(StudentID, FirstName, LastName, GraduationYear, Branch) \\\n",
    "            VALUES  (?,?,?,?,?)\", student_data)"
   ]
  },
  {
   "cell_type": "code",
   "execution_count": 19,
   "id": "b3ff3a0f",
   "metadata": {},
   "outputs": [],
   "source": [
    "cur.commit()"
   ]
  },
  {
   "cell_type": "markdown",
   "id": "47063bf3",
   "metadata": {},
   "source": [
    "#### Get-Student-Query"
   ]
  },
  {
   "cell_type": "code",
   "execution_count": 20,
   "id": "bed10665",
   "metadata": {},
   "outputs": [],
   "source": [
    "student_id = \"00062022CHE\"\n",
    "get_student_sql = \"SELECT * FROM RegisteredStudents \\\n",
    "                    WHERE StudentID = ?\"\n",
    "\n",
    "student = cur.execute(get_student_sql,student_id).fetchone()"
   ]
  },
  {
   "cell_type": "code",
   "execution_count": 21,
   "id": "1a193aad",
   "metadata": {},
   "outputs": [
    {
     "name": "stdout",
     "output_type": "stream",
     "text": [
      "Student ID: 00062022CHE\n",
      "Student Name: Denny Matthews\n",
      "Branch: Chemical Engineering\n",
      "Graduation Year: 2022-01-05\n",
      "Books Issued Currently: 0\n",
      "Total Books Issued: 0\n",
      "Student Banned: NO\n"
     ]
    }
   ],
   "source": [
    "# for student in students:\n",
    "print(f\"Student ID: {student.StudentID}\\nStudent Name: {student.FirstName} {student.LastName}\\n\\\n",
    "Branch: {student.Branch}\\nGraduation Year: {student.GraduationYear}\\nBooks Issued Currently: {student.BooksCurrentlyIssued}\\n\\\n",
    "Total Books Issued: {student.TotalBooksIssued}\\nStudent Banned: {student.StudentBanned}\")"
   ]
  },
  {
   "cell_type": "code",
   "execution_count": 22,
   "id": "9ff81c85",
   "metadata": {
    "scrolled": true
   },
   "outputs": [
    {
     "data": {
      "text/plain": [
       "{'Student ID': '00062022CHE',\n",
       " 'Student Name': 'Denny Matthews',\n",
       " 'Branch': 'Chemical Engineering',\n",
       " 'Graduation Year': '2022-01-05',\n",
       " 'Number of Books Issued Currently': 0,\n",
       " 'Cumulative Number Books Issued': 0,\n",
       " 'Is the Student Banned': 'NO'}"
      ]
     },
     "execution_count": 22,
     "metadata": {},
     "output_type": "execute_result"
    }
   ],
   "source": [
    "{\"Student ID\": student.StudentID,\n",
    "                    \"Student Name\": student.FirstName+' '+student.LastName,\n",
    "                    \"Branch\": student.Branch,\n",
    "                    \"Graduation Year\": student.GraduationYear,\n",
    "                    \"Number of Books Issued Currently\": student.BooksCurrentlyIssued,\n",
    "                    \"Cumulative Number Books Issued\": student.TotalBooksIssued,\n",
    "                    \"Is the Student Banned\": student.StudentBanned } "
   ]
  },
  {
   "cell_type": "markdown",
   "id": "79b27ef9",
   "metadata": {},
   "source": [
    "### Adding a Book"
   ]
  },
  {
   "cell_type": "code",
   "execution_count": 25,
   "id": "fb235290",
   "metadata": {},
   "outputs": [
    {
     "data": {
      "text/plain": [
       "<pyodbc.Cursor at 0x1c6240da6b0>"
      ]
     },
     "execution_count": 25,
     "metadata": {},
     "output_type": "execute_result"
    }
   ],
   "source": [
    "cur.execute(\"INSERT INTO Books(BookID, BookName, Authors, AuthorAlias, BookEdition) \\\n",
    "            VALUES ('ID_0001C', 'Gone Girl', 'Gillian Flynn', NULL, NULL )\")"
   ]
  },
  {
   "cell_type": "code",
   "execution_count": 27,
   "id": "b7c7ec56",
   "metadata": {},
   "outputs": [],
   "source": [
    "cur.commit()"
   ]
  },
  {
   "cell_type": "markdown",
   "id": "44710329",
   "metadata": {},
   "source": [
    "### Get Book Query"
   ]
  },
  {
   "cell_type": "markdown",
   "id": "842736c1",
   "metadata": {},
   "source": [
    "### By ID"
   ]
  },
  {
   "cell_type": "code",
   "execution_count": null,
   "id": "d72eec5b",
   "metadata": {},
   "outputs": [],
   "source": [
    "book_id = 'ID_0001A'\n",
    "book = cur.execute(\"SELECT * FROM Books WHERE BookID = ?\", book_id).fetchone()"
   ]
  },
  {
   "cell_type": "code",
   "execution_count": null,
   "id": "60ca0038",
   "metadata": {},
   "outputs": [],
   "source": [
    "book"
   ]
  },
  {
   "cell_type": "code",
   "execution_count": 113,
   "id": "e35e70a2",
   "metadata": {},
   "outputs": [
    {
     "data": {
      "text/plain": [
       "{'Book ID': 'ID_0001A',\n",
       " 'Book Name': 'Ikigai',\n",
       " 'Authors': 'Hector Garcia, Francesc Miralles',\n",
       " 'Book Alias': None,\n",
       " 'Book Edition': None,\n",
       " 'Book Dated': '2024-03-09',\n",
       " 'Book Status': 'Available'}"
      ]
     },
     "execution_count": 113,
     "metadata": {},
     "output_type": "execute_result"
    }
   ],
   "source": [
    "{'Book ID': book.BookID, 'Book Name': book.BookName, 'Authors': book.Authors, \n",
    " 'Book Alias': book.AuthorAlias, 'Book Edition': book.BookEdition, 'Book Dated': book.AddedtoLibDate, \n",
    " 'Book Status': book.BookStatus }"
   ]
  },
  {
   "cell_type": "code",
   "execution_count": 114,
   "id": "6377708f",
   "metadata": {
    "scrolled": true
   },
   "outputs": [
    {
     "data": {
      "text/plain": [
       "pyodbc.Row"
      ]
     },
     "execution_count": 114,
     "metadata": {},
     "output_type": "execute_result"
    }
   ],
   "source": [
    "type(book)"
   ]
  },
  {
   "cell_type": "markdown",
   "id": "88ab014f",
   "metadata": {},
   "source": [
    "### By keyword"
   ]
  },
  {
   "cell_type": "code",
   "execution_count": 74,
   "id": "258cd633",
   "metadata": {},
   "outputs": [
    {
     "name": "stdout",
     "output_type": "stream",
     "text": [
      "girl\n"
     ]
    }
   ],
   "source": [
    "# our input\n",
    "search_query = f\"%{input()}%\""
   ]
  },
  {
   "cell_type": "code",
   "execution_count": 77,
   "id": "875ce4a3",
   "metadata": {},
   "outputs": [],
   "source": [
    "by_author_query = \"SELECT * FROM Books WHERE Authors LIKE ? OR WHERE BookName LIKE ? \""
   ]
  },
  {
   "cell_type": "code",
   "execution_count": 80,
   "id": "ab41d69b",
   "metadata": {},
   "outputs": [
    {
     "name": "stdout",
     "output_type": "stream",
     "text": [
      "{0: {'Book ID': 'ID_0001C', 'Book Name': 'Gone Girl', 'Authors': 'Gillian Flynn', 'Book Alias': None, 'Book Edition': None, 'Book Dated': '2024-03-09', 'Book Status': 'Available'}}\n"
     ]
    }
   ],
   "source": [
    "books = cur.execute(by_name_query, search_query).fetchall()\n",
    "\n",
    "if not books:\n",
    "    print('NONE')    \n",
    "\n",
    "else:\n",
    "    result = {}\n",
    "    for idx, book in enumerate(books):\n",
    "        result[idx] = {'Book ID': book.BookID, 'Book Name': book.BookName, 'Authors': book.Authors, \n",
    "         'Book Alias': book.AuthorAlias, 'Book Edition': book.BookEdition, 'Book Dated': book.AddedtoLibDate, \n",
    "         'Book Status': book.BookStatus }\n",
    "    print(result)\n",
    "\n"
   ]
  },
  {
   "cell_type": "code",
   "execution_count": 61,
   "id": "845c7e2c",
   "metadata": {},
   "outputs": [
    {
     "data": {
      "text/plain": [
       "{0: {'Book ID': 'ID_0001A',\n",
       "  'Book Name': 'Ikigai',\n",
       "  'Authors': 'Hector Garcia, Francesc Miralles',\n",
       "  'Book Alias': None,\n",
       "  'Book Edition': None,\n",
       "  'Book Dated': '2024-03-09',\n",
       "  'Book Status': 'Available'}}"
      ]
     },
     "execution_count": 61,
     "metadata": {},
     "output_type": "execute_result"
    }
   ],
   "source": [
    "result"
   ]
  },
  {
   "cell_type": "code",
   "execution_count": 105,
   "id": "e0561e23",
   "metadata": {},
   "outputs": [],
   "source": [
    "book_query = \"gi\"\n",
    "book_queries = [book_query, book_query, book_query]\n",
    "books = cur.execute(\"SELECT * FROM Books \\\n",
    "                    WHERE BookName LIKE ? OR \\\n",
    "                    BookID LIKE ? OR \\\n",
    "                    Authors LIKE ?\", book_queries).fetchall()"
   ]
  },
  {
   "cell_type": "code",
   "execution_count": 106,
   "id": "667cc628",
   "metadata": {},
   "outputs": [
    {
     "data": {
      "text/plain": [
       "[]"
      ]
     },
     "execution_count": 106,
     "metadata": {},
     "output_type": "execute_result"
    }
   ],
   "source": [
    "books"
   ]
  },
  {
   "cell_type": "markdown",
   "id": "d7c44330",
   "metadata": {},
   "source": [
    "### Add Book query"
   ]
  },
  {
   "cell_type": "code",
   "execution_count": 23,
   "id": "9500cf2f",
   "metadata": {},
   "outputs": [
    {
     "data": {
      "text/plain": [
       "<pyodbc.Cursor at 0x1c6240da6b0>"
      ]
     },
     "execution_count": 23,
     "metadata": {},
     "output_type": "execute_result"
    }
   ],
   "source": [
    "# a json object entry format\n",
    "book = {\n",
    "    \"id\": \"ID_0001D\",\n",
    "    \"name\": \"Kafka on the Shore\",\n",
    "    \"authors\": \"Haruki Murakami\",\n",
    "    \"alias\": None,\n",
    "    \"book edition\": None} \n",
    "\n",
    "book_data = list(book.values())\n",
    "\n",
    "cur.execute(\"INSERT INTO Books(BookID, BookName, Authors, AuthorAlias, BookEdition) \\\n",
    "            VALUES (?,?,?,?,?)\", book_data)"
   ]
  },
  {
   "cell_type": "code",
   "execution_count": 24,
   "id": "a2b17d51",
   "metadata": {},
   "outputs": [],
   "source": [
    "cur.commit()"
   ]
  },
  {
   "cell_type": "code",
   "execution_count": 104,
   "id": "f0fd7f87",
   "metadata": {},
   "outputs": [],
   "source": [
    "test = {\n",
    "    \"id\": \"ID_0001D\",\n",
    "    \"name\": \"Kafka on the Shore\",\n",
    "    \"authors\": \"Haruki Murakami\",\n",
    "    \"alias\": None,\n",
    "    \"book edition\": None}\n",
    "\n",
    "json_file = json.dumps(test)"
   ]
  },
  {
   "cell_type": "code",
   "execution_count": null,
   "id": "be859188",
   "metadata": {},
   "outputs": [],
   "source": []
  },
  {
   "cell_type": "code",
   "execution_count": null,
   "id": "5fd38045",
   "metadata": {},
   "outputs": [],
   "source": []
  }
 ],
 "metadata": {
  "kernelspec": {
   "display_name": "Python 3 (ipykernel)",
   "language": "python",
   "name": "python3"
  },
  "language_info": {
   "codemirror_mode": {
    "name": "ipython",
    "version": 3
   },
   "file_extension": ".py",
   "mimetype": "text/x-python",
   "name": "python",
   "nbconvert_exporter": "python",
   "pygments_lexer": "ipython3",
   "version": "3.11.5"
  }
 },
 "nbformat": 4,
 "nbformat_minor": 5
}
